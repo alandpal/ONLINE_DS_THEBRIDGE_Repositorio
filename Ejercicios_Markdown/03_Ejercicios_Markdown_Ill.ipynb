{
 "cells": [
  {
   "cell_type": "markdown",
   "id": "59ec229f",
   "metadata": {
    "id": "59ec229f"
   },
   "source": [
    "<img src=\"./img/TheBridge_logo_RGB_color.jpg\" width = 500>"
   ]
  },
  {
   "cell_type": "markdown",
   "id": "30a2c01b",
   "metadata": {
    "id": "30a2c01b"
   },
   "source": [
    "# EJERCICIOS MARKDOWN (I)\n",
    "\n",
    "> Añadir blockquote\n",
    "\n"
   ]
  },
  {
   "cell_type": "markdown",
   "id": "e165fb0c",
   "metadata": {
    "id": "e165fb0c"
   },
   "source": [
    "Aquí tienes cinco sencillos ejercicios para practicar lo aprendido en la primera sesión de Markdown. Utiliza las celdas que hay debajo de cada enunciado y recuerda convertirlas a Markdown primero ;-)"
   ]
  },
  {
   "cell_type": "markdown",
   "id": "5f74096f",
   "metadata": {
    "id": "5f74096f"
   },
   "source": [
    "\n",
    "\n",
    "### Ejercicio 1: Cabeceras\n",
    "Crea las siguientes cabeceras:\n",
    "\n",
    "1. Una cabecera de nivel 1 con el texto \"Ciencia de Datos\".\n",
    "2. Una cabecera de nivel 2 con el texto \"Introducción\".\n",
    "3. Una cabecera de nivel 3 con el texto \"Herramientas\"."
   ]
  },
  {
   "cell_type": "markdown",
   "id": "ASKGXkwUbqGz",
   "metadata": {
    "id": "ASKGXkwUbqGz"
   },
   "source": [
    "# Ciencia de Datos\n",
    "## Introducción\n",
    "### Herramientas"
   ]
  },
  {
   "cell_type": "markdown",
   "id": "a8eee40d-52cf-4caf-acd3-914de90fab35",
   "metadata": {},
   "source": [
    "Como ya está resuelto el ejercicio voy a escribir otras cabeceras\n",
    "# Primera cabecera\n",
    "## Segunda cabecera\n",
    "### Tercera cabecera"
   ]
  },
  {
   "cell_type": "markdown",
   "id": "4b636168",
   "metadata": {
    "id": "4b636168"
   },
   "source": [
    "### Ejercicio 2: Estilos de texto\n",
    "Escribe una frase que contenga las siguientes características:\n",
    "\n",
    "1. La palabra \"Markdown\" en negritas.\n",
    "2. La palabra \"Jupyter\" en cursivas.\n",
    "3. La palabra \"Python\" en negritas y cursivas."
   ]
  },
  {
   "cell_type": "markdown",
   "id": "z1oHZHg1AFw2",
   "metadata": {
    "id": "z1oHZHg1AFw2"
   },
   "source": [
    "Estoy apriendiendo a utilizar **Markdown** y se que lo dominaré.  \n",
    "Creo que tengo otra versión de *Jupyter* porque me sale al lado la reproducción directamente.  \n",
    "Tengo muchas ganas de aprender ***Python***.\n",
    "\n"
   ]
  },
  {
   "cell_type": "markdown",
   "id": "ODrEW_8N4aCh",
   "metadata": {
    "id": "ODrEW_8N4aCh"
   },
   "source": [
    "**Aquí**, con **Markdown**  \n",
    "Y *Jupyter* se ha unido al grupo  \n",
    "¿Ganas? Ganazas de aprender ***Python***"
   ]
  },
  {
   "cell_type": "markdown",
   "id": "dAAqx7_Hb3Js",
   "metadata": {
    "id": "dAAqx7_Hb3Js"
   },
   "source": [
    "Aun no sé muy bien qué significa **markdown**, pero ya tengo algún *jupyter* notebook y ya he comenzado a tocar ***python***\n",
    "\n",
    "> Añadir blockquote\n",
    "\n"
   ]
  },
  {
   "cell_type": "markdown",
   "id": "e6b3d301-2a99-4189-8887-74dd0b3d9295",
   "metadata": {},
   "source": [
    "Esta es otra frase en la que pruebo a escribir con **negrita** y *cursiva*, pronto empezaré a manejar ***python***"
   ]
  },
  {
   "cell_type": "markdown",
   "id": "61fd2979",
   "metadata": {
    "id": "61fd2979"
   },
   "source": [
    "### Ejercicio 3: Resaltados y HTML\n",
    "Crea una línea que contenga:\n",
    "\n",
    "1. La palabra \"resaltado\" con un fondo amarillo usando Markdown.\n",
    "2. La palabra \"color\" en azul usando HTML.\n",
    "\n",
    "Para este ejercicio tendrás que buscar un poco más en internet, venga que tú puedes."
   ]
  },
  {
   "cell_type": "markdown",
   "id": "TVpHOgAM5WTM",
   "metadata": {
    "id": "TVpHOgAM5WTM"
   },
   "source": [
    "\n",
    "<font color=\"blue\">color</font>"
   ]
  },
  {
   "cell_type": "markdown",
   "id": "QZ9D_R3BBst_",
   "metadata": {
    "id": "QZ9D_R3BBst_"
   },
   "source": [
    "<mark>resaltado</mark>  \n",
    "<font color=\"blue\"> color </font>"
   ]
  },
  {
   "cell_type": "markdown",
   "id": "gQXi7Z7wcGhl",
   "metadata": {
    "id": "gQXi7Z7wcGhl"
   },
   "source": [
    "<mark>resaltado</mark>  \n",
    "<font color=\"blue\"> color </font>"
   ]
  },
  {
   "cell_type": "markdown",
   "id": "422ab9e8-1479-4dc1-ba12-fafcede77866",
   "metadata": {},
   "source": [
    "<mark>Hola, esta celda está resaltado en amarillo</mark>\n",
    "\n",
    "Para cambiar el ejercicio que ya está escrito voy a poner la palabra en color en rojo\n",
    "\n",
    "<font color=\"red\"> color </font>"
   ]
  },
  {
   "cell_type": "markdown",
   "id": "a91386ca",
   "metadata": {
    "id": "a91386ca"
   },
   "source": [
    "### Ejercicio 4: Citas\n",
    "Incluye la siguiente cita:\n",
    "\n",
    "> La Ciencia de Datos es el petróleo del siglo XXI.\n",
    "\n",
    "En uno y dos niveles de cita"
   ]
  },
  {
   "cell_type": "markdown",
   "id": "FOvZIAc-jFY5",
   "metadata": {
    "id": "FOvZIAc-jFY5"
   },
   "source": [
    ">La Ciencia de datos es el petróleo del siglo XXI\n",
    ">>La Ciencia de Datos es el petróleo del siglo XXI"
   ]
  },
  {
   "cell_type": "markdown",
   "id": "_4G41erqcxH6",
   "metadata": {
    "id": "_4G41erqcxH6"
   },
   "source": [
    "> La Ciencia de Datos es el petróleo del siglo XXI.\n",
    ">> La Ciencia de Datos es el petróleo del siglo XXI."
   ]
  },
  {
   "cell_type": "markdown",
   "id": "d43f0565-e709-45a5-8c0d-86fcb97dbc9f",
   "metadata": {},
   "source": [
    ">El futuro de la ciencia de datos es inmenso\n",
    ">>Cada vez su uso se expande más entre las organizaciones de toda clase \n",
    "\n",
    "### Ejercicio 5: Combinando todo\n",
    "Crea un texto que combine lo siguiente:\n",
    "\n",
    "1. Una cabecera de nivel 2 con el texto \"Curso de Markdown\".\n",
    "2. Una frase que contenga la palabra \"importante\" en negritas.\n",
    "3. Una cita que diga: \"Aprender es crecer\".\n",
    "4. La palabra \"ejemplo\" en cursivas y con un fondo verde usando HTML.\n",
    "\n",
    "Nota: Si no has sido capaz de encontrar como dar color de fondo usando HTML quizás <span style=\"background-color:yellow\">*tienes que buscar más cerca de ti*</span>\n"
   ]
  },
  {
   "cell_type": "markdown",
   "id": "M6idH_ggc5OV",
   "metadata": {
    "id": "M6idH_ggc5OV",
    "jp-MarkdownHeadingCollapsed": true
   },
   "source": [
    "## Curso de Markdown\n",
    "\n",
    "Es súper **importante** trabajar día a día.\n",
    "\n",
    "> Aprender es crecer\n",
    "\n",
    "<span style=\"background-color:green\">*Ejemplo*</span>"
   ]
  },
  {
   "cell_type": "markdown",
   "id": "2l9hMdjx6SlC",
   "metadata": {
    "id": "2l9hMdjx6SlC"
   },
   "source": [
    "## Curso de Markdown  \n",
    "Es muy **importante** practicar lo aprendido.  \n",
    ">Aprender es crecer.\n"
   ]
  },
  {
   "cell_type": "markdown",
   "id": "RUogNLIwF9Po",
   "metadata": {
    "id": "RUogNLIwF9Po"
   },
   "source": [
    "<span style=\"background-color:lightgreen\"><i>ejemplo<i></span>  "
   ]
  },
  {
   "cell_type": "code",
   "execution_count": 14,
   "id": "nBu7VwrFVMZg",
   "metadata": {
    "executionInfo": {
     "elapsed": 15,
     "status": "ok",
     "timestamp": 1755163777887,
     "user": {
      "displayName": "Raquel Hernandez",
      "userId": "00480615012440953265"
     },
     "user_tz": -120
    },
    "id": "nBu7VwrFVMZg"
   },
   "outputs": [],
   "source": [
    "#No soy capaz que se me vea con el fondo verde"
   ]
  },
  {
   "cell_type": "markdown",
   "id": "09416119-026f-4021-9416-c4b6fc97cb97",
   "metadata": {},
   "source": [
    "## Segunda cabecera\n",
    "Es muy **importante** practicar para mejorar\n",
    ">El aprendizaje constante es el secreto de la mejoria"
   ]
  },
  {
   "cell_type": "markdown",
   "id": "de3680f1-eb64-4ca8-b8b5-f321c6130bbf",
   "metadata": {},
   "source": [
    "<span style=\"background-color:darkgreen\">*ejemplo*</span>"
   ]
  }
 ],
 "metadata": {
  "colab": {
   "provenance": []
  },
  "kernelspec": {
   "display_name": "Python 3 (ipykernel)",
   "language": "python",
   "name": "python3"
  },
  "language_info": {
   "codemirror_mode": {
    "name": "ipython",
    "version": 3
   },
   "file_extension": ".py",
   "mimetype": "text/x-python",
   "name": "python",
   "nbconvert_exporter": "python",
   "pygments_lexer": "ipython3",
   "version": "3.13.5"
  }
 },
 "nbformat": 4,
 "nbformat_minor": 5
}
