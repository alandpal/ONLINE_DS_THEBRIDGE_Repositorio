{
 "cells": [
  {
   "cell_type": "markdown",
   "metadata": {
    "id": "vigJnuAMSU4x"
   },
   "source": [
    "![TheBridge_logo_RGB_color.jpg](attachment:TheBridge_logo_RGB_color.jpg)"
   ]
  },
  {
   "cell_type": "markdown",
   "metadata": {
    "id": "2xmnwM17SU4y"
   },
   "source": [
    "![ejercicios.png](attachment:ejercicios.png)"
   ]
  },
  {
   "cell_type": "markdown",
   "metadata": {
    "id": "liorA-1ZSU4y"
   },
   "source": [
    "# Ejercicios Clases y Objetos"
   ]
  },
  {
   "cell_type": "markdown",
   "metadata": {
    "id": "5xXUz5l9SU4z"
   },
   "source": [
    "## Ejercicio 1\n",
    "Somos una empresa que tiene varias tiendas de electrodomesticos. Necesitamos un programa para manejar las tiendas, ver las ventas que han tenido, cuántos empleados hay, etc... Para ello vamos a modelizar la tienda en una clase, que tendrá las siguientes características:\n",
    "* Nombre clase: \"Tienda\"\n",
    "* Atributos comunes:\n",
    "    * Tipo: \"Electrodomésticos\"\n",
    "    * Abierta: True\n",
    "* Atributos propios de cada tienda:\n",
    "    * Nombre - String\n",
    "    * Dirección - String\n",
    "    * Número de empleados - int\n",
    "    * Ventas ultimos 3 meses - Lista de 3 numeros\n",
    "* Método para calcular las ventas de todos los meses, que devuelva un numero con todas las ventas.\n",
    "* Método que calcula la media de ventas de los ultimos meses, por empleado\n",
    "* Método que devuelve en un string el nombre de la tienda, junto con su dirección.\n",
    "* Método que obtiene las ventas del último mes.\n",
    "* Método para dar una proyección de las ventas en caso de haber invertido X dinero en marketing en esa tienda. Siendo X el parámetro de entrada. Si X es menor de 1000, las ventas de los ultimos 3 meses hubiesen sido de (1.2 x ventas), si es mayor o igual de 1000, las ventas hubiesen sido de (1.5 x venta). El método reescribe el atributo de ventas en los últimos 3 meses, y además devuelve las ventas con el aumento.\n",
    "\n",
    "Se pide:\n",
    "1. Implementar la clase \"Tienda\"\n",
    "2. Crear tres tiendas con datos inventados\n",
    "3. Comprueba en al menos una de ellas, todo lo implementado en la clase tienda (sus atributos, media de ventas, ventas/empleado...)\n",
    "3. Calcular las ventas del último mes de todas las tiendas. Para ello usa el bucle `for`\n",
    "4. Imprime por pantalla los nombres de las tiendas cuya dirección lleve el string \"Avenida\"\n",
    "5. Seguro que ya has hecho este apartado... Documenta la clase :)"
   ]
  },
  {
   "cell_type": "code",
   "execution_count": 100,
   "metadata": {
    "id": "5cLQcLxfSU4z"
   },
   "outputs": [],
   "source": [
    "class Tienda:\n",
    "    tipo = \"Electrodomesticos\"\n",
    "    abierta = True \n",
    "# Declaro la clase tienda con los atributos tipo que es un string y sirve para decir que clase de tienda es y \n",
    "#abierta que es un booleano que sirve para conocer si es verdad o no que la tienda está abierta\n",
    "    def __init__(self, nombre_tienda: str, direccion_tienda: str, numero_de_empleados: int, ventasmes1, ventasmes2, ventasmes3):\n",
    "        self.nombretienda = nombre_tienda\n",
    "        self.direcciontienda = direccion_tienda\n",
    "        self.numeroempleados = numero_de_empleados\n",
    "        self.ventas3meses = [ventasmes1, ventasmes2, ventasmes3]\n",
    "# Con el constructor interamos los atributos especificos para cada tienda, en este caso:\n",
    "# los atributos son el nombre de la tienda, la direccion, el numero de empleados y una lista con las ventas de los últimos tres meses\n",
    "    def ventas_total(self):\n",
    "        return (self.ventas3meses[0]+self.ventas3meses[1]+self.ventas3meses[2])\n",
    "    def ventas_empleado(self):\n",
    "        return (self.ventas3meses[0]+self.ventas3meses[1]+self.ventas3meses[2])/self.numeroempleados\n",
    "    def info_tienda(self):\n",
    "        return self.nombretienda + \" \" + self.direcciontienda\n",
    "    def ventas_ultmes(self):\n",
    "        return self.ventas3meses[2]\n",
    "    def inversion(self, x):\n",
    "        if x < 1000:\n",
    "            return self.ventas_total() * 1.2\n",
    "        elif x >= 1000:\n",
    "            return self.ventas_total() * 1.5\n",
    "# Se definen los metodos de la tienda, en este caso ventas totales: suma cada uno de los valores de la lista de las ventas en los ultimos meses\n",
    "# ventas empleados: se suman las ventas de los meses y se divide entre el numero de empleados, info tienda: nos muestra nombre y direccion\n",
    "# ventas ultimo mes: muestras las ventas del ultimo mes que corresponde al ultimo elemento de la lista de ventas en los utimos meses, \n",
    "# inversion: a traves de un if else dependiendo de la cantidad invertida se devuelve un calculo de las ventas totales"
   ]
  },
  {
   "cell_type": "code",
   "execution_count": 101,
   "metadata": {
    "scrolled": true
   },
   "outputs": [
    {
     "name": "stdout",
     "output_type": "stream",
     "text": [
      "Electro Gonzalez\n",
      "Avenida de las flores 34\n",
      "8\n",
      "[500, 700, 450]\n",
      "1650\n",
      "206.25\n",
      "Electro Gonzalez Avenida de las flores 34\n",
      "450\n",
      "2475.0\n"
     ]
    }
   ],
   "source": [
    "electrogonzalez = Tienda(\"Electro Gonzalez\", \"Avenida de las flores 34\", 8, 500, 700, 450)\n",
    "tecnomarket = Tienda(\"Tecnomarket\", \"Calle del general Pedro 1\", 3, 200, 250, 300)\n",
    "kasper = Tienda(\"Kasper\", \"Calle mayor 15\", 1, 150, 400, 100)\n",
    "print(electrogonzalez.nombretienda)\n",
    "print(electrogonzalez.direcciontienda)\n",
    "print(electrogonzalez.numeroempleados)\n",
    "print(electrogonzalez.ventas3meses)\n",
    "print(electrogonzalez.ventas_total())\n",
    "print(electrogonzalez.ventas_empleado())\n",
    "print(electrogonzalez.info_tienda())\n",
    "print(electrogonzalez.ventas_ultmes())\n",
    "print(electrogonzalez.inversion(1300))"
   ]
  },
  {
   "cell_type": "code",
   "execution_count": 51,
   "metadata": {},
   "outputs": [
    {
     "name": "stdout",
     "output_type": "stream",
     "text": [
      "Las ventas del ultimo mes de la tienda Electro Gonzalez es de  450\n",
      "Las ventas del ultimo mes de la tienda Tecnomarket es de  300\n",
      "Las ventas del ultimo mes de la tienda Kasper es de  100\n"
     ]
    }
   ],
   "source": [
    "tiendas = [electrogonzalez, tecnomarket, kasper]\n",
    "for tienda in tiendas:\n",
    "    print(\"Las ventas del ultimo mes de la tienda\", tienda.nombretienda, \"es de \", tienda.ventas_ultmes())"
   ]
  },
  {
   "cell_type": "code",
   "execution_count": 52,
   "metadata": {},
   "outputs": [
    {
     "name": "stdout",
     "output_type": "stream",
     "text": [
      "Electro Gonzalez\n"
     ]
    }
   ],
   "source": [
    "for tienda in tiendas:\n",
    "    if \"Avenida\" in tienda.direcciontienda:\n",
    "        print(tienda.nombretienda)\n",
    "    "
   ]
  },
  {
   "cell_type": "code",
   "execution_count": null,
   "metadata": {},
   "outputs": [],
   "source": []
  },
  {
   "cell_type": "markdown",
   "metadata": {
    "id": "WEBq7EpsSU40"
   },
   "source": [
    "## Ejercicio 2\n",
    "En este ejercicio vamos a implementar una clase *Perro* en Python. La clase tiene las siguientes características:\n",
    "* Cosas que sabemos seguro que tiene un perro\n",
    "    * Tiene 4 patas\n",
    "    * 2 orejas\n",
    "    * 2 ojos\n",
    "    * Una velocidad de 0. Por defecto, el perro está parado\n",
    "* Cuando se inicialice:\n",
    "    * El perro será de una determinada raza\n",
    "    * Por defecto tendrá pelo \"Marrón\", a no ser que se diga lo contrario.\n",
    "    * Por defecto no tendrá dueño, a no ser que se diga lo contrario.\n",
    "    \n",
    "* Dispondrá también de un método llamado andar, que tiene un argumento de entrada (aumento_velocidad). Este valor se le sumará a la velocidad que ya llevaba el perro.\n",
    "* Necesita otro método (parar), donde pondremos la velocidad a 0.\n",
    "* Otro método llamado \"ladrar\", que tendrá un argumento de entrada, y la salida será el siguiente string: \"GUAU!\" + el argumento de entrada.\n",
    "\n",
    "\n",
    "Se pide:\n",
    "* Implementa la clase *Perro*\n",
    "* Crea un objeto de tipo *Perro*, sin dueño\n",
    "* Comprueba que están bien todos sus atributos\n",
    "* Prueba que ande, y comprueba su velocidad\n",
    "* Páralo\n",
    "* Documenta la clase *Perro*"
   ]
  },
  {
   "cell_type": "code",
   "execution_count": 102,
   "metadata": {
    "id": "DpEWvbwGSU40"
   },
   "outputs": [],
   "source": [
    "class Perro:\n",
    "    patas = 4\n",
    "    orejas = 2\n",
    "    ojos = 2\n",
    "# Se declara la clase perro y los atributos generales de esta clase\n",
    "    def __init__(self, raza, pelo = \"Marron\", dueño = False, velocidad = 0):\n",
    "        self.raza = raza\n",
    "        self.pelo = pelo\n",
    "        self.dueño = dueño\n",
    "        self.velocidad = velocidad\n",
    "# A traves del constructor se crea el atributo raza, el cual habra que definir para cada perro que se cree, y los atributos pelo, \n",
    "# dueño y velocidad, los cuales ya estan definidos pero podemos cambiar al crear un objeto, en este caso a un perro\n",
    "    def andar(self, aumento_velocidad):\n",
    "        self.velocidad += aumento_velocidad \n",
    "\n",
    "    def parar(self):\n",
    "        self.velocidad = 0\n",
    "\n",
    "    def ladrar(self, ladrido):\n",
    "        return \"Guau\" + ladrido\n",
    "# Los metodos de esta clase son andar: se suma la velocidad introducida a una base que es 0 como hemos declarado en el argumento del constructor, \n",
    "# parar, la velocidad vuelve a ser 0, y ladrar: el otput que aparece es guau mas el argumento que hayamos introducio en la variable ladrido"
   ]
  },
  {
   "cell_type": "code",
   "execution_count": 103,
   "metadata": {},
   "outputs": [
    {
     "name": "stdout",
     "output_type": "stream",
     "text": [
      "4\n",
      "2\n",
      "2\n",
      "0\n",
      "Labrador\n",
      "Marron\n",
      "False\n"
     ]
    }
   ],
   "source": [
    "perro_sin_dueño = Perro(\"Labrador\")\n",
    "print(perro_sin_dueño.patas)\n",
    "print(perro_sin_dueño.orejas)\n",
    "print(perro_sin_dueño.ojos)\n",
    "print(perro_sin_dueño.velocidad)\n",
    "print(perro_sin_dueño.raza)\n",
    "print(perro_sin_dueño.pelo)\n",
    "print(perro_sin_dueño.dueño)"
   ]
  },
  {
   "cell_type": "code",
   "execution_count": 94,
   "metadata": {},
   "outputs": [
    {
     "name": "stdout",
     "output_type": "stream",
     "text": [
      "5\n"
     ]
    }
   ],
   "source": [
    "perro_sin_dueño.andar(5)\n",
    "print(perro_sin_dueño.velocidad)"
   ]
  },
  {
   "cell_type": "code",
   "execution_count": 96,
   "metadata": {},
   "outputs": [
    {
     "name": "stdout",
     "output_type": "stream",
     "text": [
      "0\n"
     ]
    }
   ],
   "source": [
    "perro_sin_dueño.parar()\n",
    "print(perro_sin_dueño.velocidad)"
   ]
  },
  {
   "cell_type": "code",
   "execution_count": 99,
   "metadata": {},
   "outputs": [
    {
     "data": {
      "text/plain": [
       "'Guau, ¡Que sorpresa!'"
      ]
     },
     "execution_count": 99,
     "metadata": {},
     "output_type": "execute_result"
    }
   ],
   "source": [
    "perro_sin_dueño.ladrar(\", ¡Que sorpresa!\")"
   ]
  },
  {
   "cell_type": "code",
   "execution_count": null,
   "metadata": {},
   "outputs": [],
   "source": []
  }
 ],
 "metadata": {
  "colab": {
   "provenance": []
  },
  "kernelspec": {
   "display_name": "Python 3 (ipykernel)",
   "language": "python",
   "name": "python3"
  },
  "language_info": {
   "codemirror_mode": {
    "name": "ipython",
    "version": 3
   },
   "file_extension": ".py",
   "mimetype": "text/x-python",
   "name": "python",
   "nbconvert_exporter": "python",
   "pygments_lexer": "ipython3",
   "version": "3.13.5"
  }
 },
 "nbformat": 4,
 "nbformat_minor": 4
}
