{
 "cells": [
  {
   "cell_type": "markdown",
   "metadata": {
    "id": "9l3HMgm6RWxF"
   },
   "source": [
    "![TheBridge_logo_RGB_color.jpg](attachment:TheBridge_logo_RGB_color.jpg)"
   ]
  },
  {
   "cell_type": "markdown",
   "metadata": {
    "id": "RGg9iWpoRWxG"
   },
   "source": [
    "![ejercicios.png](attachment:ejercicios.png)"
   ]
  },
  {
   "cell_type": "markdown",
   "metadata": {
    "id": "AyOlWS2nRWxH"
   },
   "source": [
    "## PRACTICA OBLIGATORIA: COLECCIONES Y FUNCIONES"
   ]
  },
  {
   "cell_type": "markdown",
   "metadata": {
    "id": "6UOgb0KVRWxH"
   },
   "source": [
    "* La práctica obligatoria de esta unidad consiste varios ejercicios de programación libre a completar sobre Colecciones y Funciones. Descarga este notebook en tu ordenador y trabaja en local.  \n",
    "* Recuerda que debes subirla a tu repositorio personal antes de la sesión en vivo para que puntúe adecuadamente y puedas participar en dicha sesión.  \n",
    "* Recuerda también que no es necesario que esté perfecta, sólo es necesario que se vea el esfuerzo.\n",
    "* Esta práctica se resolverá en la sesión en vivo correspondiente y la solución se publicará en el repo del curso."
   ]
  },
  {
   "cell_type": "markdown",
   "metadata": {
    "id": "j3yu-tEjRWxH"
   },
   "source": [
    "### Contenidos"
   ]
  },
  {
   "cell_type": "markdown",
   "metadata": {
    "id": "kO-fLH39RWxH"
   },
   "source": [
    "## Ejercicio 1\n",
    "Eleva todos los elementos de la lista al cuadrado\n",
    "> ```ejer_2 = [1,2,3,4,5]```"
   ]
  },
  {
   "cell_type": "code",
   "execution_count": 3,
   "metadata": {
    "id": "ks5l3yi7RWxH"
   },
   "outputs": [
    {
     "name": "stdout",
     "output_type": "stream",
     "text": [
      "1\n",
      "4\n",
      "9\n",
      "16\n",
      "25\n"
     ]
    }
   ],
   "source": [
    "ejer_2 = [1,2,3,4,5]\n",
    "\n",
    "for i in ejer_2:\n",
    "    i = i**2\n",
    "    print (i)"
   ]
  },
  {
   "cell_type": "markdown",
   "metadata": {
    "id": "kI_Xr5oFRWxI"
   },
   "source": [
    "## Ejercicio 2\n",
    "Haz un programa que detecte todos los duplicados de un elemento en una lista:\n",
    "* Utiliza una variable duplicado para asignarle el valor del elemento del que queremos encontrar todos sus duplicados.\n",
    "* El programa debe devolver todos los índices de los elementos duplicados.\n",
    "* Aplícalo para encontrar los duplicados de \"un\", \"es\" y \"binario\" de:  \n",
    "\n",
    ">```ejer_3 = [\"Un\", \"árbol\", \"binario\", \"es\", \"una\", \"estructura\", \"de\", \"un\", \"tipo\", \"particular\", \"a\", \"veces\", \"no\", \"es\", \"ni\", \"binario\"]```\n"
   ]
  },
  {
   "cell_type": "code",
   "execution_count": 20,
   "metadata": {
    "id": "cLY9WB7YRWxI"
   },
   "outputs": [
    {
     "name": "stdout",
     "output_type": "stream",
     "text": [
      "Los valores duplicados se encuentran en el indice:\n",
      "2\n",
      "Los valores duplicados se encuentran en el indice:\n",
      "3\n",
      "Los valores duplicados se encuentran en el indice:\n",
      "7\n",
      "Los valores duplicados se encuentran en el indice:\n",
      "13\n",
      "Los valores duplicados se encuentran en el indice:\n",
      "15\n"
     ]
    }
   ],
   "source": [
    "ejer_3 = [\"Un\",\"árbol\",\"binario\",\"es\",\"una\",\"estructura\",\"de\",\"un\",\"tipo\",\"particular\",\"a\",\"veces\",\"no\",\"es\",\"ni\",\"binario\"]\n",
    "duplicado = [\"un\",\"es\",\"binario\"]\n",
    "for indices, valores in enumerate(ejer_3):\n",
    "    if valores in duplicado:\n",
    "        print (\"Los valores duplicados se encuentran en el indice:\")\n",
    "        print (indices)\n",
    "# No considera Un, porque al estar la u en mayúscula no lo recoje como duplicado de un\n",
    "# Para que recojiese el valor Un tendria que aplicar valores.lower()"
   ]
  },
  {
   "cell_type": "markdown",
   "metadata": {
    "id": "3WrBd5QaRWxI"
   },
   "source": [
    "## Ejercicio 3\n",
    "1. ¿Cuántas veces se repite el 3 en la siguiente tupla?\n",
    "2. Crea una tupla nueva con los elementos desde la posicion 5 a la 10.\n",
    "3. ¿Cuántos elementos tiene la tupla `ejer_3`?\n",
    "> ```ejer_9 = (3, 20, 3, 47, 19, 3, 29, 45, 67, 78, 90, 3, 3, 5, 2, 4, 7, 9, 4, 2, 4, 3, 3, 4, 6, 7)```"
   ]
  },
  {
   "cell_type": "code",
   "execution_count": 31,
   "metadata": {
    "id": "bkv_R5LYRWxI"
   },
   "outputs": [
    {
     "name": "stdout",
     "output_type": "stream",
     "text": [
      "El valor se repite 7 veces en la tupla\n",
      "(3, 29, 45, 67, 78)\n",
      "16\n"
     ]
    }
   ],
   "source": [
    "ejer_9 = (3,20,3,47,19,3,29,45,67,78,90,3,3,5,2,4,7,9,4,2,4,3,3,4,6,7)\n",
    "int3rep = ejer_9.count(3)\n",
    "print(\"El valor se repite\", int3rep, \"veces en la tupla\")\n",
    "\n",
    "nueva_tupla = tuple(ejer_9[5:10])\n",
    "print(nueva_tupla)\n",
    "\n",
    "print(len(ejer_3))\n"
   ]
  },
  {
   "cell_type": "markdown",
   "metadata": {
    "id": "6g8Y54AeRWxI"
   },
   "source": [
    "## Ejercicio 4\n",
    "Comprueba si el numero 60 esta en la tupla del ejercicio 3"
   ]
  },
  {
   "cell_type": "code",
   "execution_count": 36,
   "metadata": {
    "id": "F8VTEZonRWxI"
   },
   "outputs": [
    {
     "name": "stdout",
     "output_type": "stream",
     "text": [
      "El número 60 no existe en la tupla\n"
     ]
    }
   ],
   "source": [
    "if 60 in ejer_9:\n",
    "    print(\"El número 60 existe en la tupla\")\n",
    "else:\n",
    "    print(\"El número 60 no existe en la tupla\")"
   ]
  },
  {
   "cell_type": "markdown",
   "metadata": {
    "id": "y0fg-ZA6RWxI"
   },
   "source": [
    "## Ejercicio 5\n",
    "1. Convierte la tupla del ejercicio 3 en una lista\n",
    "2. Convierte la tupla del ejercicio 3 en un set\n",
    "3. Convierte la tupla del ejercicio 3 en un diccionario. Usa también los indices"
   ]
  },
  {
   "cell_type": "code",
   "execution_count": 43,
   "metadata": {
    "id": "_O5hXr01RWxI"
   },
   "outputs": [
    {
     "name": "stdout",
     "output_type": "stream",
     "text": [
      "[3, 20, 3, 47, 19, 3, 29, 45, 67, 78, 90, 3, 3, 5, 2, 4, 7, 9, 4, 2, 4, 3, 3, 4, 6, 7] <class 'list'>\n",
      "{2, 3, 67, 5, 4, 7, 6, 9, 45, 78, 47, 19, 20, 90, 29} <class 'set'>\n",
      "{0: 3, 1: 20, 2: 3, 3: 47, 4: 19, 5: 3, 6: 29, 7: 45, 8: 67, 9: 78, 10: 90, 11: 3, 12: 3, 13: 5, 14: 2, 15: 4, 16: 7, 17: 9, 18: 4, 19: 2, 20: 4, 21: 3, 22: 3, 23: 4, 24: 6, 25: 7} <class 'dict'>\n"
     ]
    }
   ],
   "source": [
    "lista_con = list(ejer_9)\n",
    "print(lista_con, type(lista_con))\n",
    "\n",
    "set_con = set(ejer_9)\n",
    "print(set_con, type(set_con))\n",
    "\n",
    "dict_con = {clave : valor for clave, valor in enumerate(ejer_9)}\n",
    "print(dict_con, type(dict_con))"
   ]
  },
  {
   "cell_type": "markdown",
   "metadata": {
    "id": "eOdWWbxvRWxJ"
   },
   "source": [
    "## Ejercicio 6\n",
    "Multiplica todos los valores del diccionario\n",
    "> ```ejer_6 = {1: 11, 2: 22, 3: 33, 4: 44, 5: 55}```"
   ]
  },
  {
   "cell_type": "code",
   "execution_count": 60,
   "metadata": {
    "id": "KcuByovKRWxJ"
   },
   "outputs": [
    {
     "name": "stdout",
     "output_type": "stream",
     "text": [
      "19326120\n"
     ]
    }
   ],
   "source": [
    "ejer_6 = {1: 11, 2:22, 3:33, 4:44, 5:55}\n",
    "resultado = 1\n",
    "for valor in ejer_6.values():\n",
    "    resultado *= valor\n",
    "print(resultado)"
   ]
  },
  {
   "cell_type": "markdown",
   "metadata": {
    "id": "W7TUSaKRRWxJ"
   },
   "source": [
    "## Ejercicio 7\n",
    "\n",
    "1. Crea un diccionario que describa un libro, con los siguientes campos o claves: \"titulo\",\"autor\",\"idioma original\",\"año de publicación\".\n",
    "2. Crea un a lista, llamada librería.\n",
    "3. Añade cuatro libros a tu elección a la librería."
   ]
  },
  {
   "cell_type": "code",
   "execution_count": 71,
   "metadata": {
    "id": "d-IMRvxRRWxJ",
    "vscode": {
     "languageId": "plaintext"
    }
   },
   "outputs": [
    {
     "name": "stdout",
     "output_type": "stream",
     "text": [
      "{'titulo': '', 'autor': '', 'idioma original': '', 'año de publicacion': ''}\n",
      "['Cuento de hadas', 'Novela policiaca', 'Libro de idiomas', 'Curso de python']\n",
      "{'titulo': ['Cuento de hadas', 'Novela policiaca', 'Libro de idiomas', 'Curso de python'], 'autor': '', 'idioma original': '', 'año de publicacion': ''}\n"
     ]
    }
   ],
   "source": [
    "dict_libro = {\n",
    "    \"titulo\":\"\",\n",
    "    \"autor\":\"\",\n",
    "    \"idioma original\":\"\",\n",
    "    \"año de publicacion\":\"\",\n",
    "}\n",
    "print(dict_libro)\n",
    "libreria = [\"Cuento de hadas\",\"Novela policiaca\", \"Libro de idiomas\", \"Curso de python\"]\n",
    "print(libreria)\n",
    "dict_libro[\"titulo\"] = libreria\n",
    "print(dict_libro)"
   ]
  },
  {
   "cell_type": "markdown",
   "metadata": {
    "id": "glMoedjYRWxJ"
   },
   "source": [
    "## Ejercicio 8\n",
    "Modifica los valores del idioma de todos los libros del ejercicio anterior para que sea \"esperanto\"\n"
   ]
  },
  {
   "cell_type": "code",
   "execution_count": 73,
   "metadata": {
    "id": "veNdC-uwRWxJ"
   },
   "outputs": [
    {
     "name": "stdout",
     "output_type": "stream",
     "text": [
      "{'titulo': ['Cuento de hadas', 'Novela policiaca', 'Libro de idiomas', 'Curso de python'], 'autor': '', 'idioma original': 'esperanto', 'año de publicacion': ''}\n"
     ]
    }
   ],
   "source": [
    "dict_libro[\"idioma original\"] = \"esperanto\"\n",
    "print(dict_libro)"
   ]
  },
  {
   "cell_type": "markdown",
   "metadata": {
    "id": "DRCJG04KRWxJ"
   },
   "source": [
    "## Ejercicio 9\n",
    "1. Escribe un programa que dada una variable titulo busque los libros que hay en la librería con ese título. Si no se encuentra debe devolver el mensaje `Ese no lo tengo, ¿mola?`\n",
    "2. Pruena que el programa con uno de tus libros y con otro que no contenga tu librería."
   ]
  },
  {
   "cell_type": "code",
   "execution_count": 92,
   "metadata": {
    "id": "eWHdJi9BRWxJ"
   },
   "outputs": [
    {
     "name": "stdin",
     "output_type": "stream",
     "text": [
      "¿Que libro quieres buscar? Los pilares de la tierra\n"
     ]
    },
    {
     "name": "stdout",
     "output_type": "stream",
     "text": [
      "Ese no lo tengo,¿mola?\n"
     ]
    }
   ],
   "source": [
    "libro_buscado = input(\"¿Que libro quieres buscar?\")\n",
    "if libro_buscado in dict_libro[\"titulo\"]:\n",
    "    pass\n",
    "else:\n",
    "    print(\"Ese no lo tengo,¿mola?\")\n",
    "\n"
   ]
  },
  {
   "cell_type": "markdown",
   "metadata": {
    "id": "17YOpYuFRWxJ"
   },
   "source": [
    "## Ejercicio 10\n",
    "Convierte el programa del ejercicio 2 en una función al que se le pase el valor a buscar como un argumento posicional"
   ]
  },
  {
   "cell_type": "code",
   "execution_count": 101,
   "metadata": {
    "id": "cLY9WB7YRWxI"
   },
   "outputs": [
    {
     "name": "stdout",
     "output_type": "stream",
     "text": [
      "<built-in method index of str object at 0x000001F1E5F4D110>\n",
      "<built-in method index of str object at 0x000001F1E5F4D110>\n"
     ]
    }
   ],
   "source": [
    "ejer_3 = [\"Un\",\"árbol\",\"binario\",\"es\",\"una\",\"estructura\",\"de\",\"un\",\"tipo\",\"particular\",\"a\",\"veces\",\"no\",\"es\",\"ni\",\"binario\"]\n",
    "def buscador(valor_a_buscar):\n",
    "    for indices, valores in enumerate(ejer_3):\n",
    "        if valor_a_buscar == valores:\n",
    "            print (valores.index)\n",
    "buscador(\"binario\")\n",
    "\n",
    "# No se como hacerlo"
   ]
  },
  {
   "cell_type": "markdown",
   "metadata": {
    "id": "xZ-sWJxPRWxJ"
   },
   "source": [
    "## Ejercicio 11\n",
    "Convierte el programa del ejercicio 9 en una función al que se le pasen como argumentos la librería, posicional, y el título, argumento keyword con valor \"ninguno\", por defecto."
   ]
  },
  {
   "cell_type": "code",
   "execution_count": null,
   "metadata": {
    "id": "4-JrsMdNRWxK"
   },
   "outputs": [],
   "source": [
    "# No entiendo que es lo que me está pidiendo"
   ]
  },
  {
   "cell_type": "markdown",
   "metadata": {
    "id": "FtJir95QRWxK"
   },
   "source": [
    "## Ejercicio 12\n",
    "Solicitar al usuario que ingrese su dirección email. Imprimir un mensaje indicando si la dirección es válida o no, valiéndose de una función para decidirlo. Una dirección se considerará válida si contiene el símbolo \"@\"."
   ]
  },
  {
   "cell_type": "code",
   "execution_count": 106,
   "metadata": {
    "id": "sk852IZ8RWxK"
   },
   "outputs": [
    {
     "name": "stdin",
     "output_type": "stream",
     "text": [
      "Introduce el correo: pepe@gmail.com\n"
     ]
    },
    {
     "name": "stdout",
     "output_type": "stream",
     "text": [
      "La direccion es válida\n",
      "None\n"
     ]
    }
   ],
   "source": [
    "requerimiento = input(\"Introduce el correo:\")\n",
    "def val_correo(correo):\n",
    "    if \"@\" in correo:\n",
    "        print(\"La direccion es válida\")\n",
    "    else:\n",
    "        print(\"La dirección de correo no es válida\")\n",
    "print(val_correo(requerimiento))"
   ]
  },
  {
   "cell_type": "markdown",
   "metadata": {
    "id": "Kw1MWBwBRWxK"
   },
   "source": [
    "## Ejercicio 13\n",
    "Escribe una función que compruebe si un DNI es válido, devolviendo `True` en caso afirmativo.  \n",
    "En primer lugar, el DNI debe tener entre 7 y 8 dígitos numéricos.  \n",
    "Para saber si la letra del DNI es correcta puedes utilizar el siguiente fragmento de código:\n",
    ">```Python\n",
    ">DNI= 55555555\n",
    ">palabra='TRWAGMYFPDXBNJZSQVHLCKE'\n",
    ">print('La letra del DNI es: ', palabra[DNI%23])\n",
    ">````\n"
   ]
  },
  {
   "cell_type": "code",
   "execution_count": 117,
   "metadata": {
    "id": "F5Z9rSHqRWxK"
   },
   "outputs": [
    {
     "name": "stdin",
     "output_type": "stream",
     "text": [
      "Introduzca su numero de DNI: 56419529665\n",
      "Introduzca la letra del DNI: d\n"
     ]
    },
    {
     "ename": "TypeError",
     "evalue": "argument of type 'int' is not iterable",
     "output_type": "error",
     "traceback": [
      "\u001b[31m---------------------------------------------------------------------------\u001b[39m",
      "\u001b[31mTypeError\u001b[39m                                 Traceback (most recent call last)",
      "\u001b[36mCell\u001b[39m\u001b[36m \u001b[39m\u001b[32mIn[117]\u001b[39m\u001b[32m, line 6\u001b[39m\n\u001b[32m      4\u001b[39m     \u001b[38;5;28;01mif\u001b[39;00m i \u001b[38;5;129;01min\u001b[39;00m inp_dni >= \u001b[32m7\u001b[39m \u001b[38;5;129;01mand\u001b[39;00m inp_dni <= \u001b[32m8\u001b[39m:\n\u001b[32m      5\u001b[39m         \u001b[38;5;28mprint\u001b[39m(\u001b[33m\"\u001b[39m\u001b[33mEl dni es correcto\u001b[39m\u001b[33m\"\u001b[39m)\n\u001b[32m----> \u001b[39m\u001b[32m6\u001b[39m \u001b[43mval_dni\u001b[49m\u001b[43m(\u001b[49m\u001b[43minp_dni_con\u001b[49m\u001b[43m,\u001b[49m\u001b[43m \u001b[49m\u001b[43mletra_dni\u001b[49m\u001b[43m)\u001b[49m\n\u001b[32m      8\u001b[39m \u001b[38;5;66;03m# No se como ejecutar el código\u001b[39;00m\n",
      "\u001b[36mCell\u001b[39m\u001b[36m \u001b[39m\u001b[32mIn[117]\u001b[39m\u001b[32m, line 4\u001b[39m, in \u001b[36mval_dni\u001b[39m\u001b[34m(inp_dni, letra_dni)\u001b[39m\n\u001b[32m      3\u001b[39m \u001b[38;5;28;01mdef\u001b[39;00m\u001b[38;5;250m \u001b[39m\u001b[34mval_dni\u001b[39m(inp_dni, letra_dni):\n\u001b[32m----> \u001b[39m\u001b[32m4\u001b[39m     \u001b[38;5;28;01mif\u001b[39;00m \u001b[43mi\u001b[49m\u001b[43m \u001b[49m\u001b[38;5;129;43;01min\u001b[39;49;00m\u001b[43m \u001b[49m\u001b[43minp_dni\u001b[49m\u001b[43m \u001b[49m\u001b[43m>\u001b[49m\u001b[43m=\u001b[49m\u001b[43m \u001b[49m\u001b[32;43m7\u001b[39;49m \u001b[38;5;129;01mand\u001b[39;00m inp_dni <= \u001b[32m8\u001b[39m:\n\u001b[32m      5\u001b[39m         \u001b[38;5;28mprint\u001b[39m(\u001b[33m\"\u001b[39m\u001b[33mEl dni es correcto\u001b[39m\u001b[33m\"\u001b[39m)\n",
      "\u001b[31mTypeError\u001b[39m: argument of type 'int' is not iterable"
     ]
    }
   ],
   "source": [
    "inp_dni = input(\"Introduzca su numero de DNI:\")\n",
    "letra_dni = input(\"Introduzca la letra del DNI:\")\n",
    "def val_dni(inp_dni, letra_dni):\n",
    "    if i in inp_dni >= 7 and inp_dni <= 8:\n",
    "        print(\"El dni es correcto\")\n",
    "val_dni(inp_dni_con, letra_dni)\n",
    "\n",
    "# No se como ejecutar el código"
   ]
  },
  {
   "cell_type": "code",
   "execution_count": null,
   "metadata": {},
   "outputs": [],
   "source": []
  }
 ],
 "metadata": {
  "colab": {
   "provenance": []
  },
  "kernelspec": {
   "display_name": "Python 3 (ipykernel)",
   "language": "python",
   "name": "python3"
  },
  "language_info": {
   "codemirror_mode": {
    "name": "ipython",
    "version": 3
   },
   "file_extension": ".py",
   "mimetype": "text/x-python",
   "name": "python",
   "nbconvert_exporter": "python",
   "pygments_lexer": "ipython3",
   "version": "3.13.5"
  }
 },
 "nbformat": 4,
 "nbformat_minor": 4
}
