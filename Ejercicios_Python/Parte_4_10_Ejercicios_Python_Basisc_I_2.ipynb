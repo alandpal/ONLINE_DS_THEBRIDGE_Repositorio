{
 "cells": [
  {
   "cell_type": "markdown",
   "metadata": {
    "id": "GB2K42EgK9q5"
   },
   "source": [
    "![TheBridge_logo_RGB_color.jpg](attachment:TheBridge_logo_RGB_color.jpg)"
   ]
  },
  {
   "cell_type": "markdown",
   "metadata": {
    "id": "GnwVlO37K9q6"
   },
   "source": [
    "![imagen](./img/ejercicios.png)"
   ]
  },
  {
   "cell_type": "markdown",
   "metadata": {
    "id": "_9pTa0PXK9q6"
   },
   "source": [
    "## EJERCICIOS PYTHON BASICO 2:\n",
    "## Tipos y conversión de tipos"
   ]
  },
  {
   "cell_type": "markdown",
   "metadata": {
    "id": "tYmV-veoK9q6"
   },
   "source": [
    "Completa los siguiente ejercicios, la solución a los mismos se publicarán en el repo del curso a lo largo del sprint"
   ]
  },
  {
   "cell_type": "markdown",
   "metadata": {
    "id": "YAdFbIOXK9q7"
   },
   "source": [
    "![ejercicio.png](./img/ejercicio.png)\n",
    "\n",
    "## Ejercicio 1\n",
    "\n",
    "1. Crea dos variables numericas: un `int` y un `float`\n",
    "2. Comprueba sus tipos\n",
    "3. Sumalas en otra nueva\n",
    "4. ¿De qué tipo es la nueva variable?\n",
    "5. Elimina las dos primeras variables creadas"
   ]
  },
  {
   "cell_type": "code",
   "execution_count": 13,
   "metadata": {
    "id": "8QZmuLOsK9q7"
   },
   "outputs": [
    {
     "name": "stdout",
     "output_type": "stream",
     "text": [
      "La variable_int es tipo <class 'int'> y la variable_float es tipo <class 'float'>\n",
      "5.5\n",
      "La nueva variable_int_float es tipo <class 'float'>  ya que cuando se suma un int y un float se convierte en float\n"
     ]
    }
   ],
   "source": [
    "variable_int = 2 \n",
    "variable_float = 3.5\n",
    "print(\"La variable_int es tipo\", type(variable_int), \"y la variable_float es tipo\", type(variable_float))\n",
    "variable_int_float = variable_int + variable_float\n",
    "print(variable_int_float)\n",
    "print(\"La nueva variable_int_float es tipo\", type(variable_int_float), \" ya que cuando se suma un int y un float se convierte en float\")\n",
    "del(variable_int, variable_float)"
   ]
  },
  {
   "cell_type": "markdown",
   "metadata": {
    "id": "f5xfpkpQK9q7"
   },
   "source": [
    "![ejercicio.png](./img/ejercicio.png)\n",
    "\n",
    "## Ejercicio 2\n",
    "Escribe un programa para pasar de grados a radianes. Hay que usar `input`. Recuerda que la conversión se realiza mediante\n",
    "\n",
    "radianes = grados*(pi/180)"
   ]
  },
  {
   "cell_type": "code",
   "execution_count": 28,
   "metadata": {},
   "outputs": [
    {
     "name": "stdin",
     "output_type": "stream",
     "text": [
      "Escribe el número de grados que quieres pasar a radianes: 65\n"
     ]
    },
    {
     "name": "stdout",
     "output_type": "stream",
     "text": [
      "65 grados son igual a 1.133888888888889 radianes\n"
     ]
    }
   ],
   "source": [
    "pi = 3.14\n",
    "grados = input(\"Escribe el número de grados que quieres pasar a radianes:\")\n",
    "grados_int = int(grados)\n",
    "radianes = grados_int * pi / 180\n",
    "print(grados, \"grados son igual a\", radianes, \"radianes\")"
   ]
  },
  {
   "cell_type": "markdown",
   "metadata": {
    "id": "zX3-p58CK9q7"
   },
   "source": [
    "![ejercicio.png](./img/ejercicio.png)\n",
    "\n",
    "## Ejercicio 3\n",
    "Escribe un programa que calcule el area de un paralelogramo (base x altura). También con `input`"
   ]
  },
  {
   "cell_type": "code",
   "execution_count": 29,
   "metadata": {
    "id": "s2QfNiBAK9q7"
   },
   "outputs": [
    {
     "name": "stdout",
     "output_type": "stream",
     "text": [
      "Para calcular el area de un palalelogramo es necesario conocer su base y altura\n"
     ]
    },
    {
     "name": "stdin",
     "output_type": "stream",
     "text": [
      "Introduce la base 5\n",
      "Introduce la altura 4\n"
     ]
    },
    {
     "name": "stdout",
     "output_type": "stream",
     "text": [
      "El area del paralelogramo es: 20\n"
     ]
    }
   ],
   "source": [
    "print(\"Para calcular el area de un palalelogramo es necesario conocer su base y altura\")\n",
    "base = input(\"Introduce la base\")\n",
    "altura = input(\"Introduce la altura\")\n",
    "base_int = int(base)\n",
    "altura_int = int(altura)\n",
    "area = base_int * altura_int\n",
    "print(\"El area del paralelogramo es:\", area)"
   ]
  },
  {
   "cell_type": "markdown",
   "metadata": {
    "id": "-6TBo_HvK9q8"
   },
   "source": [
    "![ejercicio.png](./img/ejercicio.png)\n",
    "\n",
    "## Ejercicio 4\n",
    "Escribe un programa que calcule el area de un paralelogramo (base x altura). También con `input`. En este caso debe ser capaz de admitir valores reales, con decimales, para base y altura en español. (PISTA: Recuerda que tendrás que hacer uso del método replace)"
   ]
  },
  {
   "cell_type": "code",
   "execution_count": 35,
   "metadata": {
    "id": "s2QfNiBAK9q7"
   },
   "outputs": [
    {
     "name": "stdout",
     "output_type": "stream",
     "text": [
      "Para calcular el area de un palalelogramo es necesario conocer su base y altura\n"
     ]
    },
    {
     "name": "stdin",
     "output_type": "stream",
     "text": [
      "Introduce la base 4,8\n",
      "Introduce la altura 3,2\n"
     ]
    },
    {
     "name": "stdout",
     "output_type": "stream",
     "text": [
      "El area es 15.36\n"
     ]
    }
   ],
   "source": [
    "print(\"Para calcular el area de un palalelogramo es necesario conocer su base y altura\")\n",
    "base = input(\"Introduce la base\")\n",
    "altura = input(\"Introduce la altura\")\n",
    "base2 = base.replace(\",\",\".\")\n",
    "altura2 = altura.replace(\",\",\".\")\n",
    "base_float = float(base2)\n",
    "altura_float = float(altura2)\n",
    "area = base_float * altura_float\n",
    "print(\"El area es\", area)"
   ]
  },
  {
   "cell_type": "markdown",
   "metadata": {
    "id": "5zKugi5iK9q8"
   },
   "source": [
    "![ejercicio.png](./img/ejercicio.png)\n",
    "\n",
    "## Ejercicio 5\n",
    "Complete el siguiente código para solicitar al usuario su nombre y su edad. Luego, calcule en qué año nació el usuario y muestre el resultado."
   ]
  },
  {
   "cell_type": "code",
   "execution_count": 1,
   "metadata": {
    "id": "LISfTnRkK9q8"
   },
   "outputs": [
    {
     "name": "stdin",
     "output_type": "stream",
     "text": [
      "¿Cuál es tu nombre? Albert\n",
      "¿Cuál es tu edad? 25\n"
     ]
    },
    {
     "name": "stdout",
     "output_type": "stream",
     "text": [
      "Albert naciste en el año 2000\n"
     ]
    }
   ],
   "source": [
    "nombre = input(\"¿Cuál es tu nombre?\")\n",
    "edad = input(\"¿Cuál es tu edad?\")\n",
    "año_actual = 2025  # Puedes cambiarlo según el año en curso\n",
    "edad_int = int(edad)\n",
    "año_nacimiento = año_actual - edad_int\n",
    "\n",
    "print(nombre, \"naciste en el año\", año_nacimiento)\n"
   ]
  },
  {
   "cell_type": "code",
   "execution_count": null,
   "metadata": {},
   "outputs": [],
   "source": []
  }
 ],
 "metadata": {
  "colab": {
   "provenance": []
  },
  "kernelspec": {
   "display_name": "Python 3 (ipykernel)",
   "language": "python",
   "name": "python3"
  },
  "language_info": {
   "codemirror_mode": {
    "name": "ipython",
    "version": 3
   },
   "file_extension": ".py",
   "mimetype": "text/x-python",
   "name": "python",
   "nbconvert_exporter": "python",
   "pygments_lexer": "ipython3",
   "version": "3.13.5"
  }
 },
 "nbformat": 4,
 "nbformat_minor": 4
}
